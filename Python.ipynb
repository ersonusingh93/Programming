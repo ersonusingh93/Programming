{
 "cells": [
  {
   "cell_type": "code",
   "execution_count": 1,
   "id": "42846f17",
   "metadata": {},
   "outputs": [],
   "source": [
    "#Python Programming\n",
    "#Data types - int, float, string, bool\n",
    "#Operators : Arithmetic, Relational, Bitwise, Logical, Ternary, Assignment\n",
    "#Decision control structure : if, if else, if elif else\n",
    "#Looping : while, for in\n",
    "#Data Structure : list, tuple, set, dictionary"
   ]
  },
  {
   "cell_type": "code",
   "execution_count": 2,
   "id": "5d701058",
   "metadata": {},
   "outputs": [],
   "source": [
    "#Function : \n",
    "#Anonymous Function"
   ]
  },
  {
   "cell_type": "code",
   "execution_count": 3,
   "id": "8c75b3fe",
   "metadata": {},
   "outputs": [],
   "source": [
    "#Modules : random, math"
   ]
  },
  {
   "cell_type": "code",
   "execution_count": 4,
   "id": "b675f54d",
   "metadata": {},
   "outputs": [],
   "source": [
    "import keyword"
   ]
  },
  {
   "cell_type": "code",
   "execution_count": 5,
   "id": "46962eae",
   "metadata": {},
   "outputs": [
    {
     "name": "stdout",
     "output_type": "stream",
     "text": [
      "['False', 'None', 'True', 'and', 'as', 'assert', 'async', 'await', 'break', 'class', 'continue', 'def', 'del', 'elif', 'else', 'except', 'finally', 'for', 'from', 'global', 'if', 'import', 'in', 'is', 'lambda', 'nonlocal', 'not', 'or', 'pass', 'raise', 'return', 'try', 'while', 'with', 'yield']\n"
     ]
    }
   ],
   "source": [
    "print(keyword.kwlist)"
   ]
  },
  {
   "cell_type": "code",
   "execution_count": 6,
   "id": "e2c3222b",
   "metadata": {},
   "outputs": [],
   "source": [
    "#def  - use to create user defined function : \n",
    "#function : set  of instructions which performs particular task\n"
   ]
  },
  {
   "cell_type": "code",
   "execution_count": 7,
   "id": "8f88b37a",
   "metadata": {},
   "outputs": [],
   "source": [
    "#PascalCase - Class\n",
    "#camelCase - methods\n",
    "#snake_case - variables"
   ]
  },
  {
   "cell_type": "code",
   "execution_count": 8,
   "id": "c2486364",
   "metadata": {},
   "outputs": [],
   "source": [
    "def displayData():\n",
    "    print(\"Welcome Krish\")\n"
   ]
  },
  {
   "cell_type": "code",
   "execution_count": 9,
   "id": "20d0374b",
   "metadata": {},
   "outputs": [],
   "source": [
    "#Function  - Call"
   ]
  },
  {
   "cell_type": "code",
   "execution_count": 10,
   "id": "7af56f74",
   "metadata": {},
   "outputs": [
    {
     "name": "stdout",
     "output_type": "stream",
     "text": [
      "Welcome Krish\n"
     ]
    }
   ],
   "source": [
    "displayData()"
   ]
  },
  {
   "cell_type": "code",
   "execution_count": 11,
   "id": "4ad208e3",
   "metadata": {},
   "outputs": [],
   "source": [
    "#function : default function\n",
    "#Parametrized function"
   ]
  },
  {
   "cell_type": "code",
   "execution_count": 12,
   "id": "470048cc",
   "metadata": {},
   "outputs": [
    {
     "name": "stdout",
     "output_type": "stream",
     "text": [
      "Welcome Krish your age is 20 years\n"
     ]
    }
   ],
   "source": [
    "def displayNames(name, age):\n",
    "    print(f'Welcome {name} your age is {age} years')\n",
    "    \n",
    "\n",
    "displayNames(\"Krish\", 20)"
   ]
  },
  {
   "cell_type": "code",
   "execution_count": 13,
   "id": "0861ff16",
   "metadata": {},
   "outputs": [
    {
     "name": "stdout",
     "output_type": "stream",
     "text": [
      "Enter your name : Ram\n",
      "Enter your age  : 25\n",
      "Enter your salary : 90000\n",
      "Welcome Ram your age is 25 years and salary is 90000.0 rupees\n"
     ]
    }
   ],
   "source": [
    "def displayNames(name, age, salary):\n",
    "    print(f'Welcome {name} your age is {age} years and salary is {salary} rupees')\n",
    "\n",
    "name = input(\"Enter your name : \")\n",
    "age  = int(input(\"Enter your age  : \"))\n",
    "salary = float(input(\"Enter your salary : \"))\n",
    "\n",
    "displayNames(name, age, salary)"
   ]
  },
  {
   "cell_type": "code",
   "execution_count": 15,
   "id": "be08a2a9",
   "metadata": {},
   "outputs": [
    {
     "name": "stdout",
     "output_type": "stream",
     "text": [
      "Enter the number you want to reverse : 214\n",
      "Reverse of number is : 412\n"
     ]
    }
   ],
   "source": [
    "def reverseNumber(number):\n",
    "    n = number\n",
    "    rem = 0\n",
    "    rev = 0\n",
    "    while(n>0):\n",
    "        rem = n % 10\n",
    "        rev = rev * 10 + rem\n",
    "        n  = n // 10\n",
    "    return rev\n",
    "\n",
    "x = int(input(\"Enter the number you want to reverse : \"))\n",
    "result = reverseNumber(x)\n",
    "print(f'Reverse of number is : {result}')"
   ]
  },
  {
   "cell_type": "code",
   "execution_count": 16,
   "id": "6c4c7ec9",
   "metadata": {},
   "outputs": [],
   "source": [
    "#Ternary operator : "
   ]
  },
  {
   "cell_type": "code",
   "execution_count": 17,
   "id": "af66c55d",
   "metadata": {},
   "outputs": [],
   "source": [
    "#25, 24"
   ]
  },
  {
   "cell_type": "code",
   "execution_count": 18,
   "id": "81412e7b",
   "metadata": {},
   "outputs": [
    {
     "name": "stdout",
     "output_type": "stream",
     "text": [
      "Greatest number is : 25\n"
     ]
    }
   ],
   "source": [
    "x = 25\n",
    "y = 24\n",
    "#Syntax : \n",
    "result = x if x > y else y\n",
    "print(f'Greatest number is : {result}')"
   ]
  },
  {
   "cell_type": "code",
   "execution_count": 19,
   "id": "ae763314",
   "metadata": {},
   "outputs": [
    {
     "name": "stdout",
     "output_type": "stream",
     "text": [
      "Lowest number is : 24\n"
     ]
    }
   ],
   "source": [
    "result = x if x < y else y\n",
    "print(f'Lowest number is : {result}')"
   ]
  },
  {
   "cell_type": "code",
   "execution_count": 20,
   "id": "6e4dc96e",
   "metadata": {},
   "outputs": [],
   "source": [
    "#x, y, z"
   ]
  },
  {
   "cell_type": "code",
   "execution_count": 21,
   "id": "e91dee55",
   "metadata": {},
   "outputs": [],
   "source": [
    "25,75,55,15\n",
    "\n",
    "25,75,55\n",
    "\n",
    "x = 55\n",
    "y = 15\n",
    "z = 25"
   ]
  },
  {
   "cell_type": "code",
   "execution_count": 22,
   "id": "dcbe5f38",
   "metadata": {},
   "outputs": [
    {
     "name": "stdout",
     "output_type": "stream",
     "text": [
      "Greatest number is : 55\n"
     ]
    }
   ],
   "source": [
    "result = (x if (x>y and x>z) else y if(y>x and y>z) else z)\n",
    "print(f'Greatest number is : {result}')"
   ]
  },
  {
   "cell_type": "code",
   "execution_count": 23,
   "id": "fa46596d",
   "metadata": {},
   "outputs": [],
   "source": [
    "#25,75,55,15"
   ]
  },
  {
   "cell_type": "code",
   "execution_count": 24,
   "id": "2d08c533",
   "metadata": {},
   "outputs": [],
   "source": [
    "x = 55\n",
    "y = 15\n",
    "z = 25\n",
    "p = 24"
   ]
  },
  {
   "cell_type": "code",
   "execution_count": 25,
   "id": "101c0d40",
   "metadata": {},
   "outputs": [],
   "source": [
    "result = (x if(x>y and x>z and x>p) else (y if(y>z and y>p and y>x) else(z if(z>x and z>y and z>p) else p)))"
   ]
  },
  {
   "cell_type": "code",
   "execution_count": 26,
   "id": "15307c42",
   "metadata": {},
   "outputs": [
    {
     "name": "stdout",
     "output_type": "stream",
     "text": [
      "Greatest number is : 55\n"
     ]
    }
   ],
   "source": [
    "print(f'Greatest number is : {result}')"
   ]
  },
  {
   "cell_type": "code",
   "execution_count": 1,
   "id": "42dc2de0",
   "metadata": {},
   "outputs": [],
   "source": [
    "#Data types : \n",
    "#Operators : \n",
    "#Decision Control Structure : \n",
    "#looping\n",
    "#Function : \n",
    "#Anonymous Function"
   ]
  },
  {
   "cell_type": "code",
   "execution_count": 2,
   "id": "bf827b08",
   "metadata": {},
   "outputs": [
    {
     "name": "stdout",
     "output_type": "stream",
     "text": [
      "50\n"
     ]
    }
   ],
   "source": [
    "def additionNumbers(x,y):\n",
    "    return x+y\n",
    "\n",
    "result = additionNumbers(25,25)\n",
    "print(result)"
   ]
  },
  {
   "cell_type": "code",
   "execution_count": 4,
   "id": "3a63c0af",
   "metadata": {},
   "outputs": [
    {
     "name": "stdout",
     "output_type": "stream",
     "text": [
      "75\n"
     ]
    }
   ],
   "source": [
    "def additionNumbers(x,y,z):\n",
    "    return x+y+z\n",
    "\n",
    "result = additionNumbers(25,25,25)\n",
    "print(result)"
   ]
  },
  {
   "cell_type": "code",
   "execution_count": null,
   "id": "24a39f81",
   "metadata": {},
   "outputs": [],
   "source": [
    "def additionNumbers(x,y,z):\n",
    "    return x+y+z\n",
    "\n",
    "result = additionNumbers(25,25,25,25)\n",
    "print(result)"
   ]
  },
  {
   "cell_type": "code",
   "execution_count": 5,
   "id": "4e5ff4a1",
   "metadata": {},
   "outputs": [],
   "source": [
    "#args - it will take n numbers of arguments\n",
    "#kwargs"
   ]
  },
  {
   "cell_type": "code",
   "execution_count": 9,
   "id": "6ab9c751",
   "metadata": {},
   "outputs": [
    {
     "name": "stdout",
     "output_type": "stream",
     "text": [
      "125\n"
     ]
    }
   ],
   "source": [
    "def additionNumbers(*args):\n",
    "    return sum(args)\n",
    "\n",
    "\n",
    "result = additionNumbers(25,25,25,25,25)\n",
    "print(result)"
   ]
  },
  {
   "cell_type": "code",
   "execution_count": 10,
   "id": "a91c73dc",
   "metadata": {},
   "outputs": [],
   "source": [
    "#List : \n",
    "#tuple\n",
    "#set"
   ]
  },
  {
   "cell_type": "code",
   "execution_count": 11,
   "id": "66302505",
   "metadata": {},
   "outputs": [],
   "source": [
    "ls = [1,2,5,4,7,8,9]\n",
    "tup = (2,4,7,8,9)"
   ]
  },
  {
   "cell_type": "code",
   "execution_count": 12,
   "id": "37fa31d5",
   "metadata": {},
   "outputs": [
    {
     "ename": "TypeError",
     "evalue": "unsupported operand type(s) for +: 'int' and 'list'",
     "output_type": "error",
     "traceback": [
      "\u001b[1;31m---------------------------------------------------------------------------\u001b[0m",
      "\u001b[1;31mTypeError\u001b[0m                                 Traceback (most recent call last)",
      "Cell \u001b[1;32mIn[12], line 5\u001b[0m\n\u001b[0;32m      1\u001b[0m \u001b[38;5;28;01mdef\u001b[39;00m \u001b[38;5;21madditionNumbers\u001b[39m(\u001b[38;5;241m*\u001b[39margs):\n\u001b[0;32m      2\u001b[0m     \u001b[38;5;28;01mreturn\u001b[39;00m \u001b[38;5;28msum\u001b[39m(args)\n\u001b[1;32m----> 5\u001b[0m result \u001b[38;5;241m=\u001b[39m additionNumbers(ls)\n",
      "Cell \u001b[1;32mIn[12], line 2\u001b[0m, in \u001b[0;36madditionNumbers\u001b[1;34m(*args)\u001b[0m\n\u001b[0;32m      1\u001b[0m \u001b[38;5;28;01mdef\u001b[39;00m \u001b[38;5;21madditionNumbers\u001b[39m(\u001b[38;5;241m*\u001b[39margs):\n\u001b[1;32m----> 2\u001b[0m     \u001b[38;5;28;01mreturn\u001b[39;00m \u001b[38;5;28msum\u001b[39m(args)\n",
      "\u001b[1;31mTypeError\u001b[0m: unsupported operand type(s) for +: 'int' and 'list'"
     ]
    }
   ],
   "source": [
    "def additionNumbers(*args):\n",
    "    return sum(args)\n",
    "\n",
    "\n",
    "result = additionNumbers(ls)"
   ]
  },
  {
   "cell_type": "code",
   "execution_count": 13,
   "id": "1a8c543a",
   "metadata": {},
   "outputs": [],
   "source": [
    "def additionNumbers(*args):\n",
    "    return sum(args)\n",
    "\n",
    "\n",
    "result = additionNumbers(*ls)"
   ]
  },
  {
   "cell_type": "code",
   "execution_count": 14,
   "id": "c8124fc5",
   "metadata": {},
   "outputs": [
    {
     "name": "stdout",
     "output_type": "stream",
     "text": [
      "36\n"
     ]
    }
   ],
   "source": [
    "print(result)"
   ]
  },
  {
   "cell_type": "code",
   "execution_count": 15,
   "id": "cb9c900a",
   "metadata": {},
   "outputs": [],
   "source": [
    "def additionNumbers(*args):\n",
    "    return sum(args)\n",
    "\n",
    "\n",
    "result = additionNumbers(*tup)"
   ]
  },
  {
   "cell_type": "code",
   "execution_count": 16,
   "id": "1a0a05d9",
   "metadata": {},
   "outputs": [
    {
     "name": "stdout",
     "output_type": "stream",
     "text": [
      "30\n"
     ]
    }
   ],
   "source": [
    "print(result)"
   ]
  },
  {
   "cell_type": "code",
   "execution_count": 17,
   "id": "b9cd589d",
   "metadata": {},
   "outputs": [],
   "source": [
    "ls1 = [2,4,5,6,7,8,9]\n",
    "ls2 = [3,4,5,7,8,9]\n",
    "ls3 = [5,7,8,9,10]\n",
    "def additionNumbers(*args):\n",
    "    return sum(args)\n",
    "\n",
    "\n",
    "result = additionNumbers(*ls1, *ls2, *ls3)"
   ]
  },
  {
   "cell_type": "code",
   "execution_count": 18,
   "id": "14295bc6",
   "metadata": {},
   "outputs": [
    {
     "name": "stdout",
     "output_type": "stream",
     "text": [
      "116\n"
     ]
    }
   ],
   "source": [
    "print(result)"
   ]
  },
  {
   "cell_type": "code",
   "execution_count": 19,
   "id": "b4e10c9a",
   "metadata": {},
   "outputs": [],
   "source": [
    "#swapping of numbers \n",
    "#a = 20\n",
    "#b = 30\n",
    "#a = 30\n",
    "#b = 20"
   ]
  },
  {
   "cell_type": "code",
   "execution_count": 21,
   "id": "d02f17e3",
   "metadata": {},
   "outputs": [
    {
     "name": "stdout",
     "output_type": "stream",
     "text": [
      "Numbers before swapping : 25 and 15\n",
      "Swapping of numbers are : 15 and 25\n"
     ]
    }
   ],
   "source": [
    "def swapNumbers(x,y):\n",
    "    print(f'Numbers before swapping : {x} and {y}')\n",
    "    temp = 0\n",
    "    temp = x\n",
    "    x = y\n",
    "    y = temp\n",
    "    print(f'Swapping of numbers are : {x} and {y}')\n",
    "    \n",
    "    \n",
    "swapNumbers(25,15)"
   ]
  },
  {
   "cell_type": "code",
   "execution_count": 22,
   "id": "296065a7",
   "metadata": {},
   "outputs": [
    {
     "name": "stdout",
     "output_type": "stream",
     "text": [
      "Numbers after swapping : 24 and 15\n"
     ]
    }
   ],
   "source": [
    "def swapNumbers(x,y):\n",
    "    x = x + y\n",
    "    y = x - y\n",
    "    x = x - y\n",
    "    print(f'Numbers after swapping : {x} and {y}')\n",
    "\n",
    "swapNumbers(15,24)"
   ]
  },
  {
   "cell_type": "code",
   "execution_count": 24,
   "id": "124ce160",
   "metadata": {},
   "outputs": [
    {
     "name": "stdout",
     "output_type": "stream",
     "text": [
      "Numbers before swapping : 25 and 15 and 45\n",
      "Swapping of numbers are : 45 and 15 and 25\n"
     ]
    }
   ],
   "source": [
    "def swapNumbers(x,y,z):\n",
    "    print(f'Numbers before swapping : {x} and {y} and {z}')\n",
    "    x,y,z = z,y,x\n",
    "   \n",
    "    print(f'Swapping of numbers are : {x} and {y} and {z}')\n",
    "    \n",
    "    \n",
    "swapNumbers(25,15,45)"
   ]
  },
  {
   "cell_type": "code",
   "execution_count": 25,
   "id": "2a7ff2ed",
   "metadata": {},
   "outputs": [],
   "source": [
    "#Fibonnaci Numbers : 0,1,1,2,3,5,8,13,21\n",
    "#Factorial Number : 5! = 5 * 4 * 3* 2* 1 = 120\n",
    "#4! = 4*3*2*1 =24\n",
    "#3! = 3*2*1 = 6\n",
    "#6! = 6*5*4*3*2*1 = 720"
   ]
  },
  {
   "cell_type": "code",
   "execution_count": 26,
   "id": "a4be7ac1",
   "metadata": {},
   "outputs": [
    {
     "name": "stdout",
     "output_type": "stream",
     "text": [
      "0\n",
      "1\n",
      "1\n",
      "2\n",
      "3\n",
      "5\n",
      "8\n",
      "13\n",
      "21\n",
      "34\n",
      "55\n"
     ]
    }
   ],
   "source": [
    "def fibonanciSeries(n1, n2):\n",
    "    n3 = 0\n",
    "    print(n1)\n",
    "    print(n2)\n",
    "    while(n3<=50):\n",
    "        n3 = n1 + n2\n",
    "        print(n3)\n",
    "        n1 = n2\n",
    "        n2 = n3\n",
    "fibonanciSeries(0, 1)"
   ]
  },
  {
   "cell_type": "code",
   "execution_count": 27,
   "id": "8e1e896d",
   "metadata": {},
   "outputs": [],
   "source": [
    "#lambda function : "
   ]
  },
  {
   "cell_type": "code",
   "execution_count": 28,
   "id": "736d0107",
   "metadata": {},
   "outputs": [
    {
     "data": {
      "text/plain": [
       "50"
      ]
     },
     "execution_count": 28,
     "metadata": {},
     "output_type": "execute_result"
    }
   ],
   "source": [
    "def additionNumbers(x,y):\n",
    "    return x+ y\n",
    "\n",
    "additionNumbers(24,26)\n"
   ]
  },
  {
   "cell_type": "code",
   "execution_count": 29,
   "id": "59ab6ec3",
   "metadata": {},
   "outputs": [
    {
     "name": "stdout",
     "output_type": "stream",
     "text": [
      "50\n"
     ]
    }
   ],
   "source": [
    "result = lambda x,y : x+y\n",
    "print(result(25,25))"
   ]
  },
  {
   "cell_type": "code",
   "execution_count": 1,
   "id": "c437042e",
   "metadata": {},
   "outputs": [],
   "source": [
    "#Function and Lambda Function : \n",
    "#map - \n",
    "#filter - \n",
    "#reduce - "
   ]
  },
  {
   "cell_type": "code",
   "execution_count": 2,
   "id": "c50c8775",
   "metadata": {},
   "outputs": [
    {
     "name": "stdout",
     "output_type": "stream",
     "text": [
      "Your name is : Krish\n"
     ]
    }
   ],
   "source": [
    "def displayName(name):\n",
    "    print(f'Your name is : {name}')\n",
    "    \n",
    "displayName(\"Krish\")"
   ]
  },
  {
   "cell_type": "code",
   "execution_count": 3,
   "id": "d670c439",
   "metadata": {},
   "outputs": [],
   "source": [
    "#list : \n",
    "#tuple\n",
    "#set\n",
    "#dict - key ->  value\n",
    "#for - iteration\n",
    "#while - iteration"
   ]
  },
  {
   "cell_type": "code",
   "execution_count": 4,
   "id": "b5ec912e",
   "metadata": {},
   "outputs": [],
   "source": [
    "numbers = [2,8,7,4,5,6,9]"
   ]
  },
  {
   "cell_type": "code",
   "execution_count": 6,
   "id": "8b814b05",
   "metadata": {},
   "outputs": [
    {
     "name": "stdout",
     "output_type": "stream",
     "text": [
      "['__add__', '__class__', '__class_getitem__', '__contains__', '__delattr__', '__delitem__', '__dir__', '__doc__', '__eq__', '__format__', '__ge__', '__getattribute__', '__getitem__', '__getstate__', '__gt__', '__hash__', '__iadd__', '__imul__', '__init__', '__init_subclass__', '__iter__', '__le__', '__len__', '__lt__', '__mul__', '__ne__', '__new__', '__reduce__', '__reduce_ex__', '__repr__', '__reversed__', '__rmul__', '__setattr__', '__setitem__', '__sizeof__', '__str__', '__subclasshook__', 'append', 'clear', 'copy', 'count', 'extend', 'index', 'insert', 'pop', 'remove', 'reverse', 'sort']\n"
     ]
    }
   ],
   "source": [
    "print(dir(numbers))"
   ]
  },
  {
   "cell_type": "code",
   "execution_count": 7,
   "id": "bc1df573",
   "metadata": {},
   "outputs": [
    {
     "name": "stdout",
     "output_type": "stream",
     "text": [
      "[4, 16, 14, 8, 10, 12, 18]\n"
     ]
    }
   ],
   "source": [
    "res = []\n",
    "for i in numbers : \n",
    "    res.append(i*2)\n",
    "print(res)"
   ]
  },
  {
   "cell_type": "code",
   "execution_count": 8,
   "id": "0d77ee1d",
   "metadata": {},
   "outputs": [
    {
     "name": "stdout",
     "output_type": "stream",
     "text": [
      "[4, 36, 25, 16, 49, 64, 81]\n"
     ]
    }
   ],
   "source": [
    "def squareNumber(number):\n",
    "    return number ** 2\n",
    "\n",
    "numbers = [2,6,5,4,7,8,9]\n",
    "square = map(squareNumber, numbers)\n",
    "\n",
    "print(list(square))"
   ]
  },
  {
   "cell_type": "code",
   "execution_count": 9,
   "id": "65f025b0",
   "metadata": {},
   "outputs": [
    {
     "name": "stdout",
     "output_type": "stream",
     "text": [
      "[4, 6, 8, 5, 3]\n"
     ]
    }
   ],
   "source": [
    "name_str = [\"4\", \"6\", \"8\", \"5\", \"3\"]\n",
    "int_nums = map(int, name_str)\n",
    "print(list(int_nums))"
   ]
  },
  {
   "cell_type": "code",
   "execution_count": 10,
   "id": "9ae96dc3",
   "metadata": {},
   "outputs": [
    {
     "name": "stdout",
     "output_type": "stream",
     "text": [
      "[4.0, 6.0, 8.0, 5.0, 3.0]\n"
     ]
    }
   ],
   "source": [
    "name_str = [\"4\", \"6\", \"8\", \"5\", \"3\"]\n",
    "int_nums = map(float, name_str)\n",
    "print(list(int_nums))"
   ]
  },
  {
   "cell_type": "code",
   "execution_count": 11,
   "id": "d1ee24cd",
   "metadata": {},
   "outputs": [],
   "source": [
    "numbers = [-5, -6, 0, 2 ,5]"
   ]
  },
  {
   "cell_type": "code",
   "execution_count": 12,
   "id": "ac335495",
   "metadata": {},
   "outputs": [
    {
     "name": "stdout",
     "output_type": "stream",
     "text": [
      "[5, 6, 0, 2, 5]\n"
     ]
    }
   ],
   "source": [
    "abs_values = list(map(abs, numbers))\n",
    "\n",
    "print(abs_values)"
   ]
  },
  {
   "cell_type": "code",
   "execution_count": 13,
   "id": "8e6f5af1",
   "metadata": {},
   "outputs": [],
   "source": [
    "words = [\"Welcome\", \"To\", \"Python\", \"Programming\"]\n"
   ]
  },
  {
   "cell_type": "code",
   "execution_count": 14,
   "id": "9bfe5f04",
   "metadata": {},
   "outputs": [
    {
     "name": "stdout",
     "output_type": "stream",
     "text": [
      "[7, 2, 6, 11]\n"
     ]
    }
   ],
   "source": [
    "print(list(map(len, words)))"
   ]
  },
  {
   "cell_type": "code",
   "execution_count": 17,
   "id": "9acb235d",
   "metadata": {},
   "outputs": [
    {
     "name": "stdout",
     "output_type": "stream",
     "text": [
      "[4, 9, 16, 25, 36, 49, 64, 81]\n"
     ]
    }
   ],
   "source": [
    "numbers = [2,3,4,5,6,7,8,9]\n",
    "square = list(map(lambda x : x ** 2, numbers))\n",
    "\n",
    "print(square)"
   ]
  },
  {
   "cell_type": "code",
   "execution_count": 16,
   "id": "47808ad1",
   "metadata": {},
   "outputs": [
    {
     "name": "stdout",
     "output_type": "stream",
     "text": [
      "[4, 9, 16, 25, 36, 49, 64, 81]\n"
     ]
    }
   ],
   "source": [
    "print(square)"
   ]
  },
  {
   "cell_type": "code",
   "execution_count": 20,
   "id": "6a3bd720",
   "metadata": {},
   "outputs": [
    {
     "data": {
      "text/plain": [
       "[16, 1024, 15625, 279936, 5764801, 134217728]"
      ]
     },
     "execution_count": 20,
     "metadata": {},
     "output_type": "execute_result"
    }
   ],
   "source": [
    "f = [2,4,5,6,7,8]\n",
    "t = [4,5,6,7,8,9]\n",
    "list(map(pow, f, t))\n"
   ]
  },
  {
   "cell_type": "code",
   "execution_count": 21,
   "id": "d04847d2",
   "metadata": {},
   "outputs": [
    {
     "data": {
      "text/plain": [
       "[1, 1, 1]"
      ]
     },
     "execution_count": 21,
     "metadata": {},
     "output_type": "execute_result"
    }
   ],
   "source": [
    "list(map(lambda x,y : x - y, [2,4,6], [1,3,5]))"
   ]
  },
  {
   "cell_type": "code",
   "execution_count": 23,
   "id": "3757f8b8",
   "metadata": {},
   "outputs": [
    {
     "data": {
      "text/plain": [
       "[10, 16]"
      ]
     },
     "execution_count": 23,
     "metadata": {},
     "output_type": "execute_result"
    }
   ],
   "source": [
    "list(map(lambda x, y, z : x + y + z, [2,5],[1,3],[7,8]))"
   ]
  },
  {
   "cell_type": "code",
   "execution_count": 27,
   "id": "a3523d67",
   "metadata": {},
   "outputs": [
    {
     "data": {
      "text/plain": [
       "['Processing', 'Strings', 'For', 'Python', 'Data']"
      ]
     },
     "execution_count": 27,
     "metadata": {},
     "output_type": "execute_result"
    }
   ],
   "source": [
    "string_data = [\"Processing\", \"Strings\", \"For\", \"Python\", \"Data\"]\n",
    "list(map(str.capitalize, string_data))"
   ]
  },
  {
   "cell_type": "code",
   "execution_count": 25,
   "id": "c941599c",
   "metadata": {},
   "outputs": [
    {
     "data": {
      "text/plain": [
       "['PROCESSING', 'STRINGS', 'FOR', ' PYTHON', 'DATA']"
      ]
     },
     "execution_count": 25,
     "metadata": {},
     "output_type": "execute_result"
    }
   ],
   "source": [
    "string_data = [\"Processing\", \"Strings\", \"For\", \" Python\", \"Data\"]\n",
    "list(map(str.upper, string_data))"
   ]
  },
  {
   "cell_type": "code",
   "execution_count": 26,
   "id": "9defd745",
   "metadata": {},
   "outputs": [
    {
     "data": {
      "text/plain": [
       "['processing', 'strings', 'for', ' python', 'data']"
      ]
     },
     "execution_count": 26,
     "metadata": {},
     "output_type": "execute_result"
    }
   ],
   "source": [
    "string_data = [\"Processing\", \"Strings\", \"For\", \" Python\", \"Data\"]\n",
    "list(map(str.lower, string_data))"
   ]
  },
  {
   "cell_type": "code",
   "execution_count": 28,
   "id": "2b988493",
   "metadata": {},
   "outputs": [],
   "source": [
    "#Filter : "
   ]
  },
  {
   "cell_type": "code",
   "execution_count": 29,
   "id": "854c453a",
   "metadata": {},
   "outputs": [],
   "source": [
    "numbers = [2,4,5,6,7,8,9,4,5,7,5]"
   ]
  },
  {
   "cell_type": "code",
   "execution_count": 30,
   "id": "f70cae34",
   "metadata": {},
   "outputs": [
    {
     "name": "stdout",
     "output_type": "stream",
     "text": [
      "[2, 4, 6, 8, 4]\n"
     ]
    }
   ],
   "source": [
    "def isData(n):\n",
    "    return n%2==0\n",
    "\n",
    "even_number = filter(isData, numbers)\n",
    "\n",
    "print(list(even_number))"
   ]
  },
  {
   "cell_type": "code",
   "execution_count": 31,
   "id": "304a6195",
   "metadata": {},
   "outputs": [
    {
     "name": "stdout",
     "output_type": "stream",
     "text": [
      "[5, 7, 9, 5, 7, 5]\n"
     ]
    }
   ],
   "source": [
    "def isData(n):\n",
    "    return n%2==1\n",
    "\n",
    "even_number = filter(isData, numbers)\n",
    "\n",
    "print(list(even_number))"
   ]
  },
  {
   "cell_type": "code",
   "execution_count": 33,
   "id": "f7e34b6c",
   "metadata": {},
   "outputs": [
    {
     "name": "stdout",
     "output_type": "stream",
     "text": [
      "[2, 4, 6, 8, 2, 4]\n"
     ]
    }
   ],
   "source": [
    "numbers = [2,4,5,6,7,8,9,1,2,3,4,5]\n",
    "even_number = []\n",
    "for i in numbers : \n",
    "    if i%2==0:\n",
    "        even_number.append(i)\n",
    "print(even_number)"
   ]
  },
  {
   "cell_type": "code",
   "execution_count": 35,
   "id": "cc759bde",
   "metadata": {},
   "outputs": [
    {
     "name": "stdout",
     "output_type": "stream",
     "text": [
      "[1, 2, 3, 5, 4, 15, 14, 16]\n"
     ]
    }
   ],
   "source": [
    "numbers = [1,2,3,5,4,6,7,8,9,10,12,15,14,16]\n",
    "\n",
    "def filter_func(n):\n",
    "    return n<6 or n>12\n",
    "\n",
    "data =  filter(filter_func, numbers)\n",
    "print(list(data))"
   ]
  },
  {
   "cell_type": "code",
   "execution_count": null,
   "id": "c2e92dfb",
   "metadata": {},
   "outputs": [],
   "source": []
  }
 ],
 "metadata": {
  "kernelspec": {
   "display_name": "Python 3 (ipykernel)",
   "language": "python",
   "name": "python3"
  },
  "language_info": {
   "codemirror_mode": {
    "name": "ipython",
    "version": 3
   },
   "file_extension": ".py",
   "mimetype": "text/x-python",
   "name": "python",
   "nbconvert_exporter": "python",
   "pygments_lexer": "ipython3",
   "version": "3.11.5"
  }
 },
 "nbformat": 4,
 "nbformat_minor": 5
}
